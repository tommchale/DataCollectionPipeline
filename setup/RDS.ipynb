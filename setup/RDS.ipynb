{
 "cells": [
  {
   "cell_type": "markdown",
   "metadata": {},
   "source": [
    "Database creation"
   ]
  },
  {
   "cell_type": "code",
   "execution_count": 1,
   "metadata": {},
   "outputs": [
    {
     "name": "stdout",
     "output_type": "stream",
     "text": [
      "/Users/tom/Documents/Coding/AiCore/DataCollectionPipeline/setup\n"
     ]
    }
   ],
   "source": [
    "import os\n",
    "\n",
    "print(os.getcwd())"
   ]
  },
  {
   "cell_type": "code",
   "execution_count": 4,
   "metadata": {},
   "outputs": [
    {
     "name": "stdout",
     "output_type": "stream",
     "text": [
      "Collecting package metadata (current_repodata.json): done\n",
      "Solving environment: done\n",
      "\n",
      "# All requested packages already installed.\n",
      "\n",
      "\n",
      "Note: you may need to restart the kernel to use updated packages.\n"
     ]
    }
   ],
   "source": [
    "\n",
    "\n",
    "conda install psycopg2"
   ]
  },
  {
   "cell_type": "code",
   "execution_count": 8,
   "metadata": {},
   "outputs": [
    {
     "name": "stdout",
     "output_type": "stream",
     "text": [
      "TootingCoffeePatio9(\n"
     ]
    }
   ],
   "source": [
    "from sqlalchemy import create_engine\n",
    "\n",
    "\n",
    "DATABASE_TYPE = 'postgresql'\n",
    "DBAPI = 'psycopg2'\n",
    "ENDPOINT = 'aicoredb.cz91qpjes5tm.us-east-1.rds.amazonaws.com' # Change it for your AWS endpoint\n",
    "USER = 'postgres'\n",
    "PASSWORD = \"\"\n",
    "PORT = 5432\n",
    "DATABASE = 'lms_db'\n",
    "\n",
    "print(PASSWORD)\n",
    "\n",
    "engine = create_engine(f\"{DATABASE_TYPE}+{DBAPI}://{USER}:{PASSWORD}@{ENDPOINT}:{PORT}/{DATABASE}\")\n",
    "\n"
   ]
  },
  {
   "cell_type": "code",
   "execution_count": 4,
   "metadata": {},
   "outputs": [
    {
     "data": {
      "text/plain": [
       "<sqlalchemy.engine.base.Connection at 0x7fcd281b3700>"
      ]
     },
     "execution_count": 4,
     "metadata": {},
     "output_type": "execute_result"
    }
   ],
   "source": [
    "engine.connect()"
   ]
  },
  {
   "cell_type": "code",
   "execution_count": 5,
   "metadata": {},
   "outputs": [
    {
     "name": "stdout",
     "output_type": "stream",
     "text": [
      "{'PlayerName': 'Luke Mussert', 'UUID': '4ce04769-f2bf-42ba-8f56-b5debd82daaf', 'PlayerLink': 'https://www.lastmanstands.com/cricket-player/t20?playerid=265273', 'ImageLink': ['https://www.lastmanstands.com/images/player-silhouette.png'], 'ScorecardIds': ['346950', '346946', '346941', '346937', '346936', '327279', '327273', '327286', '327268', '308956', '308958', '308952', '308945', '308942', '308939', '308934'], 'ScorecardBattingData': [{'How Out': 'Not Out', 'Runs': '1', 'Balls': '2', 'Fours': '0', 'Sixes': '0', 'SR': '50.00'}, {'How Out': 'Not Out', 'Runs': '33', 'Balls': '28', 'Fours': '2', 'Sixes': '1', 'SR': '117.86'}, {'How Out': 'Run Out', 'Runs': '20', 'Balls': '13', 'Fours': '2', 'Sixes': '0', 'SR': '153.85'}, {'How Out': 'Bowled', 'Runs': '37', 'Balls': '23', 'Fours': '3', 'Sixes': '1', 'SR': '160.87'}, {'How Out': 'Not Out', 'Runs': '4', 'Balls': '1', 'Fours': '1', 'Sixes': '0', 'SR': '400.00'}, {'How Out': 'Caught', 'Runs': '20', 'Balls': '19', 'Fours': '2', 'Sixes': '0', 'SR': '105.26'}, {'How Out': 'Bowled', 'Runs': '1', 'Balls': '1', 'Fours': '0', 'Sixes': '0', 'SR': '100.00'}, {'How Out': 'Not Out', 'Runs': '1', 'Balls': '3', 'Fours': '0', 'Sixes': '0', 'SR': '33.33'}, {'How Out': 'Not Out', 'Runs': '22', 'Balls': '13', 'Fours': '2', 'Sixes': '1', 'SR': '169.23'}, {'How Out': 'Caught', 'Runs': '3', 'Balls': '6', 'Fours': '0', 'Sixes': '0', 'SR': '50.00'}, {'How Out': 'Not Out', 'Runs': '0', 'Balls': '1', 'Fours': '0', 'Sixes': '0', 'SR': '0.00'}, {'How Out': 'Not Out', 'Runs': '48', 'Balls': '28', 'Fours': '2', 'Sixes': '1', 'SR': '171.43'}, {'How Out': 'Not Out', 'Runs': '8', 'Balls': '4', 'Fours': '2', 'Sixes': '0', 'SR': '200.00'}, {'How Out': 'Bowled', 'Runs': '1', 'Balls': '2', 'Fours': '0', 'Sixes': '0', 'SR': '50.00'}, {'How Out': 'Bowled', 'Runs': '29', 'Balls': '23', 'Fours': '5', 'Sixes': '0', 'SR': '126.09'}, {'How Out': 'Not Out', 'Runs': '25', 'Balls': '24', 'Fours': '2', 'Sixes': '0', 'SR': '104.17'}], 'ScorecardBowlingData': [], 'Awards': {'MostValuablePlayer': 1, 'MostValuableBatter': 0, 'MostValuableBowler': 0}}\n",
      "{'PlayerName': 'Tom McHale', 'UUID': 'b769b41e-7e71-4759-93c5-f1a3e3c9ea38', 'PlayerLink': 'https://www.lastmanstands.com/cricket-player/t20?playerid=271368', 'ImageLink': ['https://www.lastmanstands.com/images/player-silhouette.png'], 'ScorecardIds': ['345125', '345121'], 'ScorecardBattingData': [{'How Out': 'Not Out', 'Runs': '50', 'Balls': '25', 'Fours': '6', 'Sixes': '1', 'SR': '200.00'}, {'How Out': 'Caught', 'Runs': '16', 'Balls': '15', 'Fours': '0', 'Sixes': '1', 'SR': '106.67'}], 'ScorecardBowlingData': [{'Overs': '2.0', 'Runs': '22', 'Wickets': '1', 'Maidens': '0', 'Economy': '11.00'}, {'Overs': '2.0', 'Runs': '7', 'Wickets': '3', 'Maidens': '0', 'Economy': '3.50'}], 'Awards': {'MostValuablePlayer': 1, 'MostValuableBatter': 1, 'MostValuableBowler': 1}}\n",
      "<class 'pandas.core.frame.DataFrame'>\n",
      "RangeIndex: 2 entries, 0 to 1\n",
      "Data columns (total 8 columns):\n",
      " #   Column        Non-Null Count  Dtype   \n",
      "---  ------        --------------  -----   \n",
      " 0   scorecard_id  2 non-null      int64   \n",
      " 1   uuid          2 non-null      string  \n",
      " 2   how_out       2 non-null      category\n",
      " 3   runs_scored   2 non-null      int64   \n",
      " 4   balls_faced   2 non-null      int64   \n",
      " 5   fours         2 non-null      int64   \n",
      " 6   sixes         2 non-null      int64   \n",
      " 7   strike_rate   2 non-null      float64 \n",
      "dtypes: category(1), float64(1), int64(5), string(1)\n",
      "memory usage: 366.0 bytes\n"
     ]
    }
   ],
   "source": [
    "import pandas as pd\n",
    "import json\n",
    "\n",
    "# items have to be in a  list to get an auto assinged index value\n",
    "\n",
    "with open('../scraped_data/Luke Mussert/data.json') as json_file:\n",
    "    data = json.load(json_file)\n",
    "    print(data)\n",
    "\n",
    "with open('../scraped_data/Tom McHale/data.json') as json_file:\n",
    "    data = json.load(json_file)\n",
    "    print(data)\n",
    "\n",
    "players = pd.DataFrame(data, columns=['PlayerName', 'UUID', 'PlayerLink'], index=[0])\n",
    "players = players.rename(columns={\"PlayerName\": \"name\", \"UUID\": \"uuid\", \"PlayerLink\" : \"lms_profile_link\" })\n",
    "\n",
    "scorecard = pd.DataFrame(data, columns=['ScorecardIds', 'UUID'])\n",
    "scorecard = scorecard.rename(columns={\"ScorecardIds\": \"scorecard_id\", \"UUID\": \"uuid\"})\n",
    "\n",
    "\n",
    "players['name'] = players['name'].astype('string')\n",
    "players['uuid'] = players['uuid'].astype('string')\n",
    "players['lms_profile_link'] = players['lms_profile_link'].astype('string')\n",
    "\n",
    "scorecard['scorecard_id'] = scorecard['scorecard_id'].astype('int64')\n",
    "scorecard['uuid'] = scorecard['uuid'].astype('string')\n",
    "\n",
    "if data['ScorecardBowlingData']:\n",
    "    bowling_data = pd.DataFrame(data['ScorecardBowlingData'])\n",
    "    bowling_data = bowling_data.rename(columns={\"Overs\": \"overs\", \"Runs\": \"runs_conceeded\", \"Wickets\": \"wickets\", \"Maidens\": \"maidens\", \"Economy\": \"economy\"})\n",
    "    combine_bowling = pd.merge(scorecard, bowling_data, left_index=True, right_index=True)\n",
    "    combine_bowling['overs'] = combine_bowling['overs'].astype('float64')\n",
    "    combine_bowling['runs_conceeded'] = combine_bowling['runs_conceeded'].astype('int64')\n",
    "    combine_bowling['wickets'] = combine_bowling['wickets'].astype('int64')\n",
    "    combine_bowling['maidens'] = combine_bowling['maidens'].astype('int64')\n",
    "    combine_bowling['economy'] = combine_bowling['economy'].astype('float64')\n",
    "\n",
    "\n",
    "if data['ScorecardBattingData']:\n",
    "    batting_data = pd.DataFrame(data['ScorecardBattingData'])\n",
    "    batting_data = batting_data.rename(columns={\"How Out\": \"how_out\", \"Runs\": \"runs_scored\", \"Balls\": \"balls_faced\", \"Fours\": \"fours\", \"Sixes\": \"sixes\", \"SR\": \"strike_rate\"})\n",
    "    combine_batting = pd.merge(scorecard, batting_data, left_index=True, right_index=True)\n",
    "    combine_batting['how_out'] = combine_batting['how_out'].astype('category')\n",
    "    combine_batting['runs_scored'] = combine_batting['runs_scored'].astype('int64')\n",
    "    combine_batting['balls_faced'] = combine_batting['balls_faced'].astype('int64')\n",
    "    combine_batting['fours'] = combine_batting['fours'].astype('int64')\n",
    "    combine_batting['sixes'] = combine_batting['sixes'].astype('int64')\n",
    "    combine_batting['strike_rate'] = combine_batting['strike_rate'].astype('float64')\n",
    "\n",
    "uuid = pd.DataFrame(data, columns=['UUID'], index=[0])\n",
    "awards = pd.DataFrame(data['Awards'], index=[0])\n",
    "uuid = uuid.rename(columns={\"UUID\": \"uuid\"})\n",
    "awards = awards.rename(columns={\"MostValuablePlayer\": \"most_valuable_player\", \"MostValuableBatter\": \"most_valuable_batter\",\"MostValuableBowler\": \"most_valuable_bowler\"})\n",
    "combine_awards = pd.merge(uuid, awards, left_index=True, right_index=True)\n",
    "combine_awards['uuid'] = combine_awards['uuid'].astype('string')\n",
    "\n",
    "\n",
    "\n",
    "combine_batting.info()"
   ]
  },
  {
   "cell_type": "code",
   "execution_count": 59,
   "metadata": {},
   "outputs": [
    {
     "name": "stdout",
     "output_type": "stream",
     "text": [
      "<class 'pandas.core.frame.DataFrame'>\n",
      "RangeIndex: 2 entries, 0 to 1\n",
      "Data columns (total 7 columns):\n",
      " #   Column          Non-Null Count  Dtype  \n",
      "---  ------          --------------  -----  \n",
      " 0   scorecard_id    2 non-null      int64  \n",
      " 1   uuid            2 non-null      string \n",
      " 2   overs           2 non-null      float64\n",
      " 3   runs_conceeded  2 non-null      int64  \n",
      " 4   wickets         2 non-null      int64  \n",
      " 5   maidens         2 non-null      int64  \n",
      " 6   economy         2 non-null      float64\n",
      "dtypes: float64(2), int64(4), string(1)\n",
      "memory usage: 240.0 bytes\n"
     ]
    }
   ],
   "source": [
    "combine_bowling.info()"
   ]
  },
  {
   "cell_type": "markdown",
   "metadata": {},
   "source": [
    "Upload to database"
   ]
  },
  {
   "cell_type": "code",
   "execution_count": 7,
   "metadata": {},
   "outputs": [],
   "source": [
    "combine_batting['How Out'] = combine_batting['How Out'].astype('category')\n",
    "combine_batting['ScorecardIds'] = combine_batting['ScorecardIds'].astype('int64')\n",
    "combine_batting['UUID'] = combine_batting['UUID'].astype('string')\n",
    "combine_batting['Runs'] = combine_batting['Runs'].astype('int64')\n",
    "combine_batting['Balls'] = combine_batting['Balls'].astype('int64')\n",
    "combine_batting['Fours'] = combine_batting['Fours'].astype('int64')\n",
    "combine_batting['Sixes'] = combine_batting['Sixes'].astype('int64')\n",
    "combine_batting['SR'] = combine_batting['SR'].astype('float64')"
   ]
  },
  {
   "cell_type": "markdown",
   "metadata": {},
   "source": []
  },
  {
   "cell_type": "code",
   "execution_count": 13,
   "metadata": {},
   "outputs": [],
   "source": [
    "combine_bowling['ScorecardIds'] = combine_bowling['ScorecardIds'].astype('int64')\n",
    "combine_bowling['UUID'] = combine_bowling['UUID'].astype('string')\n",
    "combine_bowling['Overs'] = combine_bowling['Overs'].astype('float64')\n",
    "combine_bowling['Runs'] = combine_bowling['Runs'].astype('int64')\n",
    "combine_bowling['Wickets'] = combine_bowling['Wickets'].astype('int64')\n",
    "combine_bowling['Maidens'] = combine_bowling['Maidens'].astype('int64')\n",
    "combine_bowling['Economy'] = combine_bowling['Economy'].astype('float64')"
   ]
  },
  {
   "cell_type": "code",
   "execution_count": 22,
   "metadata": {},
   "outputs": [],
   "source": [
    "players['PlayerName'] = players['PlayerName'].astype('string')\n",
    "players['UUID'] = players['UUID'].astype('string')\n",
    "players['PLayerLink'] = players['PlayerLink'].astype('string')\n"
   ]
  },
  {
   "cell_type": "code",
   "execution_count": 30,
   "metadata": {},
   "outputs": [],
   "source": [
    "combine_awards['UUID'] = combine_awards['UUID'].astype('string')\n"
   ]
  },
  {
   "cell_type": "code",
   "execution_count": 31,
   "metadata": {},
   "outputs": [
    {
     "name": "stdout",
     "output_type": "stream",
     "text": [
      "<class 'pandas.core.frame.DataFrame'>\n",
      "Int64Index: 1 entries, 0 to 0\n",
      "Data columns (total 4 columns):\n",
      " #   Column              Non-Null Count  Dtype \n",
      "---  ------              --------------  ----- \n",
      " 0   UUID                1 non-null      string\n",
      " 1   MostValuablePlayer  1 non-null      int64 \n",
      " 2   MostValuableBatter  1 non-null      int64 \n",
      " 3   MostValuableBowler  1 non-null      int64 \n",
      "dtypes: int64(3), string(1)\n",
      "memory usage: 148.0 bytes\n"
     ]
    }
   ],
   "source": [
    "combine_awards.info()"
   ]
  },
  {
   "cell_type": "code",
   "execution_count": 9,
   "metadata": {},
   "outputs": [
    {
     "data": {
      "text/plain": [
       "1"
      ]
     },
     "execution_count": 9,
     "metadata": {},
     "output_type": "execute_result"
    }
   ],
   "source": [
    "players.to_sql('players', engine, if_exists='append')\n",
    "if combine_batting is not None:\n",
    "    combine_batting.to_sql('batting', engine, if_exists='append')\n",
    "if combine_bowling is not None:\n",
    "    combine_bowling.to_sql('bowling', engine, if_exists='append')\n",
    "combine_awards.to_sql('awards', engine, if_exists='append')"
   ]
  },
  {
   "cell_type": "code",
   "execution_count": 3,
   "metadata": {},
   "outputs": [
    {
     "name": "stdout",
     "output_type": "stream",
     "text": [
      "locals\n"
     ]
    }
   ],
   "source": [
    "user_choice = input(' \\n Please press 1 for local storage, 2 for online (RDS) or 3 for both \\n')\n",
    "if user_choice == \"1\" or user_choice == \"3\":\n",
    "    print(\"locals\")"
   ]
  }
 ],
 "metadata": {
  "kernelspec": {
   "display_name": "Python 3.9.7 ('base')",
   "language": "python",
   "name": "python3"
  },
  "language_info": {
   "codemirror_mode": {
    "name": "ipython",
    "version": 3
   },
   "file_extension": ".py",
   "mimetype": "text/x-python",
   "name": "python",
   "nbconvert_exporter": "python",
   "pygments_lexer": "ipython3",
   "version": "3.9.7"
  },
  "orig_nbformat": 4,
  "vscode": {
   "interpreter": {
    "hash": "3d597f4c481aa0f25dceb95d2a0067e73c0966dcbd003d741d821a7208527ecf"
   }
  }
 },
 "nbformat": 4,
 "nbformat_minor": 2
}
