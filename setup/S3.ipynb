{
 "cells": [
  {
   "cell_type": "code",
   "execution_count": 16,
   "metadata": {},
   "outputs": [],
   "source": [
    "import boto3\n",
    "import os\n",
    "import json\n",
    "import requests\n",
    "\n",
    "with open('../scraped_data/Matt Connery/data.json') as json_file:\n",
    "    data = json.load(json_file)\n",
    "\n",
    "s3_client = boto3.client('s3')\n",
    "\n",
    "bucket_name='lmsbucket2022'\n",
    "folder_name = f\"{data['PlayerName']}\"\n",
    "result = s3_client.list_objects(Bucket=bucket_name, Prefix=folder_name )\n",
    "if 'Contents' not in result:\n",
    "    s3_client.put_object(Bucket=bucket_name, Key=(folder_name+'/'))\n",
    "    index = 0\n",
    "    for link in data['ImageLink']:\n",
    "        img_data = requests.get(link).content\n",
    "        s3_client.put_object(Body=img_data, Bucket=bucket_name, Key=(f\"{folder_name}/{index}.jpg\") )\n",
    "        index+=1\n",
    "\n",
    "    \n"
   ]
  },
  {
   "cell_type": "code",
   "execution_count": 1,
   "metadata": {},
   "outputs": [
    {
     "name": "stdout",
     "output_type": "stream",
     "text": [
      "{'PlayerName': 'Matt Connery', 'UUID': 'c449cc38-4531-40d9-8337-9b9fa8235933', 'PlayerLink': 'https://www.lastmanstands.com/cricket-player/t20?playerid=298490', 'ImageLink': ['https://admin.lastmanstands.com/SpawtzApp/Images/User/298490_UserProfileImage.jpeg?2047300233'], 'ScorecardIds': ['345125', '345123', '345121'], 'ScorecardBattingData': [{'How Out': 'Caught', 'Runs': '9', 'Balls': '7', 'Fours': '1', 'Sixes': '0', 'SR': '128.57'}, {'How Out': 'Caught', 'Runs': '45', 'Balls': '24', 'Fours': '4', 'Sixes': '2', 'SR': '187.50'}, {'How Out': 'Not Out', 'Runs': '26', 'Balls': '17', 'Fours': '5', 'Sixes': '0', 'SR': '152.94'}], 'ScorecardBowlingData': [{'Overs': '2.0', 'Runs': '26', 'Wickets': '0', 'Maidens': '0', 'Economy': '13.00'}, {'Overs': '4.0', 'Runs': '62', 'Wickets': '1', 'Maidens': '0', 'Economy': '15.50'}, {'Overs': '2.0', 'Runs': '15', 'Wickets': '1', 'Maidens': '0', 'Economy': '7.50'}], 'Awards': {'MostValuablePlayer': 0, 'MostValuableBatter': 0, 'MostValuableBowler': 0}}\n"
     ]
    }
   ],
   "source": [
    "import json\n",
    "\n",
    "with open('../scraped_data/Matt Connery/data.json') as json_file:\n",
    "    data = json.load(json_file)\n",
    "    print(data)"
   ]
  },
  {
   "cell_type": "code",
   "execution_count": 1,
   "metadata": {},
   "outputs": [
    {
     "name": "stdout",
     "output_type": "stream",
     "text": [
      "Collecting package metadata (current_repodata.json): done\n",
      "Solving environment: done\n",
      "\n",
      "## Package Plan ##\n",
      "\n",
      "  environment location: /opt/miniconda3\n",
      "\n",
      "  added / updated specs:\n",
      "    - boto3\n",
      "\n",
      "\n",
      "The following packages will be downloaded:\n",
      "\n",
      "    package                    |            build\n",
      "    ---------------------------|-----------------\n",
      "    boto3-1.24.2               |   py39hecd8cb5_0         116 KB\n",
      "    botocore-1.27.2            |   py39hecd8cb5_0         4.6 MB\n",
      "    jmespath-0.10.0            |     pyhd3eb1b0_0          22 KB\n",
      "    s3transfer-0.6.0           |   py39hecd8cb5_0         105 KB\n",
      "    ------------------------------------------------------------\n",
      "                                           Total:         4.8 MB\n",
      "\n",
      "The following NEW packages will be INSTALLED:\n",
      "\n",
      "  boto3              pkgs/main/osx-64::boto3-1.24.2-py39hecd8cb5_0\n",
      "  botocore           pkgs/main/osx-64::botocore-1.27.2-py39hecd8cb5_0\n",
      "  jmespath           pkgs/main/noarch::jmespath-0.10.0-pyhd3eb1b0_0\n",
      "  s3transfer         pkgs/main/osx-64::s3transfer-0.6.0-py39hecd8cb5_0\n",
      "\n",
      "\n",
      "\n",
      "Downloading and Extracting Packages\n",
      "botocore-1.27.2      | 4.6 MB    | ##################################### | 100% \n",
      "jmespath-0.10.0      | 22 KB     | ##################################### | 100% \n",
      "s3transfer-0.6.0     | 105 KB    | ##################################### | 100% \n",
      "boto3-1.24.2         | 116 KB    | ##################################### | 100% \n",
      "Preparing transaction: done\n",
      "Verifying transaction: done\n",
      "Executing transaction: done\n",
      "\n",
      "Note: you may need to restart the kernel to use updated packages.\n"
     ]
    }
   ],
   "source": [
    "conda install boto3"
   ]
  }
 ],
 "metadata": {
  "kernelspec": {
   "display_name": "Python 3.9.7 ('base')",
   "language": "python",
   "name": "python3"
  },
  "language_info": {
   "codemirror_mode": {
    "name": "ipython",
    "version": 3
   },
   "file_extension": ".py",
   "mimetype": "text/x-python",
   "name": "python",
   "nbconvert_exporter": "python",
   "pygments_lexer": "ipython3",
   "version": "3.9.7"
  },
  "orig_nbformat": 4,
  "vscode": {
   "interpreter": {
    "hash": "3d597f4c481aa0f25dceb95d2a0067e73c0966dcbd003d741d821a7208527ecf"
   }
  }
 },
 "nbformat": 4,
 "nbformat_minor": 2
}
